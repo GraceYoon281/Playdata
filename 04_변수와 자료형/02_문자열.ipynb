{
 "cells": [
  {
   "cell_type": "markdown",
   "metadata": {},
   "source": [
    "##문자열 만들기"
   ]
  },
  {
   "cell_type": "code",
   "execution_count": 2,
   "metadata": {},
   "outputs": [
    {
     "name": "stdout",
     "output_type": "stream",
     "text": [
      "String Test\n"
     ]
    }
   ],
   "source": [
    "print(\"String Test\")"
   ]
  },
  {
   "cell_type": "code",
   "execution_count": 3,
   "metadata": {},
   "outputs": [
    {
     "name": "stdout",
     "output_type": "stream",
     "text": [
      "String Test\n"
     ]
    }
   ],
   "source": [
    "print('String Test')"
   ]
  },
  {
   "cell_type": "code",
   "execution_count": 5,
   "metadata": {},
   "outputs": [
    {
     "name": "stdout",
     "output_type": "stream",
     "text": [
      "String Test 1\n",
      "String Test 1\n"
     ]
    }
   ],
   "source": [
    "string1 = \"String Test 1\"\n",
    "string2 = \"String Test 1\"\n",
    "print(string1)\n",
    "print(string2)"
   ]
  },
  {
   "cell_type": "code",
   "execution_count": 7,
   "metadata": {},
   "outputs": [
    {
     "data": {
      "text/plain": [
       "str"
      ]
     },
     "execution_count": 7,
     "metadata": {},
     "output_type": "execute_result"
    }
   ],
   "source": [
    "type(string1)"
   ]
  },
  {
   "cell_type": "code",
   "execution_count": 8,
   "metadata": {},
   "outputs": [
    {
     "data": {
      "text/plain": [
       "str"
      ]
     },
     "execution_count": 8,
     "metadata": {},
     "output_type": "execute_result"
    }
   ],
   "source": [
    "type(string2)"
   ]
  },
  {
   "cell_type": "code",
   "execution_count": 9,
   "metadata": {},
   "outputs": [
    {
     "name": "stdout",
     "output_type": "stream",
     "text": [
      "This is a \"double\" quotation test \n",
      "This is a 'double' quotation test\n"
     ]
    }
   ],
   "source": [
    "string3 = 'This is a \"double\" quotation test '\n",
    "string4 = \"This is a 'double' quotation test\"\n",
    "\n",
    "print(string3)\n",
    "print(string4)"
   ]
  },
  {
   "cell_type": "code",
   "execution_count": 1,
   "metadata": {},
   "outputs": [
    {
     "name": "stdout",
     "output_type": "stream",
     "text": [
      "[삼중 작은따옴표를 사용한 예]\n",
      "파이썬에서는 삼중 따옴표로 여러 행의 문자열을 입력할 숭 ㅣㅆ습니다.\n",
      "큰 따옴표(\")와 작은따옴표('')도 입력할 수 있습니다\n"
     ]
    }
   ],
   "source": [
    "long_string1='''[삼중 작은따옴표를 사용한 예]\n",
    "파이썬에서는 삼중 따옴표로 여러 행의 문자열을 입력할 수 있습니다.\n",
    "큰 따옴표(\")와 작은따옴표('')도 입력할 수 있습니다'''\n",
    "\n",
    "print(long_string1)"
   ]
  },
  {
   "cell_type": "code",
   "execution_count": 3,
   "metadata": {},
   "outputs": [
    {
     "name": "stdout",
     "output_type": "stream",
     "text": [
      "[삼중 작은따옴표를 사용한 예]\n",
      "파이썬에서는 삼중 따옴표로 여러 행의 문자열을 입력할 수 있습니다.\n",
      "큰 따옴표(\")와 작은따옴표('')도 입력할 수 있습니다\n"
     ]
    }
   ],
   "source": [
    "long_string2=\"\"\"[삼중 작은따옴표를 사용한 예]\n",
    "파이썬에서는 삼중 따옴표로 여러 행의 문자열을 입력할 수 있습니다.\n",
    "큰 따옴표(\")와 작은따옴표('')도 입력할 수 있습니다\"\"\"\n",
    "\n",
    "print(long_string2)"
   ]
  },
  {
   "cell_type": "code",
   "execution_count": 4,
   "metadata": {},
   "outputs": [
    {
     "name": "stdout",
     "output_type": "stream",
     "text": [
      "[삼중 작은따옴표를 사용한 예]\n",
      "파이썬에서는 삼중 따옴표로 여러 행의 문자열을 입력할 수 있습니다.\n",
      "큰 따옴표(\")와 작은따옴표('')도 입력할 수 있습니다\n",
      "\n"
     ]
    }
   ],
   "source": [
    "long_string1='''[삼중 작은따옴표를 사용한 예]\n",
    "파이썬에서는 삼중 따옴표로 여러 행의 문자열을 입력할 수 있습니다.\n",
    "큰 따옴표(\")와 작은따옴표('')도 입력할 수 있습니다\n",
    "'''\n",
    "\n",
    "print(long_string1)"
   ]
  },
  {
   "cell_type": "markdown",
   "metadata": {},
   "source": [
    "## 문자열 다루기"
   ]
  },
  {
   "cell_type": "code",
   "execution_count": 5,
   "metadata": {},
   "outputs": [
    {
     "name": "stdout",
     "output_type": "stream",
     "text": [
      "윤경주윤경주윤경주\n"
     ]
    }
   ],
   "source": [
    "name = \"윤경주\"\n",
    "print(name * 3) #*기호 in python :반복, cf)자바 X"
   ]
  },
  {
   "cell_type": "code",
   "execution_count": null,
   "metadata": {},
   "outputs": [],
   "source": [
    "a = 'Enjoy'\n",
    "b = ''"
   ]
  }
 ],
 "metadata": {
  "kernelspec": {
   "display_name": "Python 3",
   "language": "python",
   "name": "python3"
  },
  "language_info": {
   "codemirror_mode": {
    "name": "ipython",
    "version": 3
   },
   "file_extension": ".py",
   "mimetype": "text/x-python",
   "name": "python",
   "nbconvert_exporter": "python",
   "pygments_lexer": "ipython3",
   "version": "3.8.3"
  }
 },
 "nbformat": 4,
 "nbformat_minor": 4
}
