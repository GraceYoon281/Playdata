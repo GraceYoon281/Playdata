{
 "cells": [
  {
   "cell_type": "markdown",
   "metadata": {},
   "source": [
    "### 난수 발생 모듈"
   ]
  },
  {
   "cell_type": "code",
   "execution_count": 2,
   "metadata": {},
   "outputs": [
    {
     "data": {
      "text/plain": [
       "0.11618294822082353"
      ]
     },
     "execution_count": 2,
     "metadata": {},
     "output_type": "execute_result"
    }
   ],
   "source": [
    "import random   # random: 내장 모듈을 가져옴\n",
    "random.random()  # random(): 내장모듈의 내장 함수  "
   ]
  },
  {
   "cell_type": "code",
   "execution_count": 6,
   "metadata": {},
   "outputs": [
    {
     "name": "stdout",
     "output_type": "stream",
     "text": [
      "이름을 입력하세요윤경주\n",
      "주사위 두 개의 숫자: 6,1\n",
      "윤경주 7\n"
     ]
    }
   ],
   "source": [
    "import random\n",
    "\n",
    "user = input(\"이름을 입력하세요\")\n",
    "\n",
    "dice1 = random.randint(1,6) # 임의의 정수가 생성됨\n",
    "dice2 = random.randint(1,6) # 임의의 정수가 생성됨\n",
    "print('주사위 두 개의 숫자: {0},{1}'.format(dice1, dice2))\n",
    "\n",
    "print(user, dice1 + dice2)"
   ]
  },
  {
   "cell_type": "code",
   "execution_count": 7,
   "metadata": {},
   "outputs": [
    {
     "name": "stdout",
     "output_type": "stream",
     "text": [
      "이름을 입력하세요김경미\n",
      "주사위 두 개의 숫자: 2,5\n",
      "김경미 7\n"
     ]
    }
   ],
   "source": [
    "import random\n",
    "\n",
    "user2 = input(\"이름을 입력하세요\")\n",
    "\n",
    "dice3 = random.randint(1,6) # 임의의 정수가 생성됨\n",
    "dice4 = random.randint(1,6) # 임의의 정수가 생성됨\n",
    "print('주사위 두 개의 숫자: {0},{1}'.format(dice3, dice4))\n",
    "\n",
    "print(user2, dice3 + dice4)"
   ]
  },
  {
   "cell_type": "code",
   "execution_count": null,
   "metadata": {},
   "outputs": [],
   "source": []
  }
 ],
 "metadata": {
  "kernelspec": {
   "display_name": "Python 3",
   "language": "python",
   "name": "python3"
  },
  "language_info": {
   "codemirror_mode": {
    "name": "ipython",
    "version": 3
   },
   "file_extension": ".py",
   "mimetype": "text/x-python",
   "name": "python",
   "nbconvert_exporter": "python",
   "pygments_lexer": "ipython3",
   "version": "3.8.3"
  }
 },
 "nbformat": 4,
 "nbformat_minor": 4
}
