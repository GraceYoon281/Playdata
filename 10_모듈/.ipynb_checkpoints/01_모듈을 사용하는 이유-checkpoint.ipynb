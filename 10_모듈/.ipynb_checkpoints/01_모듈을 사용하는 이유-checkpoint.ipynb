{
 "cells": [
  {
   "cell_type": "markdown",
   "metadata": {},
   "source": [
    "### 01_모듈을 사용하는 이유"
   ]
  },
  {
   "cell_type": "markdown",
   "metadata": {},
   "source": [
    "### 02_ 모듈 생성 및 호출"
   ]
  },
  {
   "cell_type": "markdown",
   "metadata": {},
   "source": [
    "#### 모듈 만들기"
   ]
  },
  {
   "cell_type": "code",
   "execution_count": 42,
   "metadata": {},
   "outputs": [
    {
     "name": "stdout",
     "output_type": "stream",
     "text": [
      "Overwriting c:\\mypycode\\my_first_file_module.py\n"
     ]
    }
   ],
   "source": [
    "%%writefile c:\\mypycode\\my_first_file_module.py\n",
    "    \n",
    "def my_function():\n",
    "    print(\"This is my first module.\")\n",
    "    #셀의 header(파일명), 밑 내용(body)\n",
    "    # 왜 역슬래시? 일반적 도스쪽에 맞춰져있기 때문에(법칙)\n",
    "    # 도스: 하위 요소로 가는 요소 \\역슬레시\n",
    "    # 파이썬: 슬러시/\n",
    "    # %%: 주피터 법칙\n",
    "    # 그 동네가면 그 동네에 따르라\n",
    "    \n",
    "    # %%writefile \"c:\\윤경주\\my_first_file_module.py\" 쌍따옴표"
   ]
  },
  {
   "cell_type": "code",
   "execution_count": 43,
   "metadata": {},
   "outputs": [
    {
     "name": "stdout",
     "output_type": "stream",
     "text": [
      "Overwriting c:\\mypycode\\my_first_file_module.py\n"
     ]
    }
   ],
   "source": [
    "%%writefile c:\\mypycode\\my_first_file_module.py\n",
    "    \n",
    "def my_function():\n",
    "    print(\"This is my first module.\")\n",
    "    "
   ]
  },
  {
   "cell_type": "code",
   "execution_count": 44,
   "metadata": {},
   "outputs": [
    {
     "name": "stdout",
     "output_type": "stream",
     "text": [
      "Appending to c:\\mypycode\\my_first_file_module.py\n"
     ]
    }
   ],
   "source": [
    "%%writefile -a c:\\mypycode\\my_first_file_module.py\n",
    "    \n",
    "def my_function():\n",
    "    print(\"This is my first module.\")\n",
    "    \n",
    "def test():\n",
    "    print(\"매직명령어 -a 실습\")"
   ]
  },
  {
   "cell_type": "code",
   "execution_count": 45,
   "metadata": {},
   "outputs": [
    {
     "name": "stdout",
     "output_type": "stream",
     "text": [
      "    \n",
      "def my_function():\n",
      "    print(\"This is my first module.\")\n",
      "    \n",
      "    \n",
      "def my_function():\n",
      "    print(\"This is my first module.\")\n",
      "    \n",
      "def test():\n",
      "    print(\"留ㅼ쭅紐낅졊�뼱 -a �떎�뒿\")\n"
     ]
    }
   ],
   "source": [
    "#파이썬 동작이 아니라 터미널 동네가서 거기 룰을 따라서 써야 하니까 \\역슬래쉬 쓴다\n",
    "!type C:\\mypycode\\my_first_file_module.py"
   ]
  },
  {
   "cell_type": "markdown",
   "metadata": {},
   "source": [
    "### 모듈 불러오기"
   ]
  },
  {
   "cell_type": "code",
   "execution_count": 16,
   "metadata": {},
   "outputs": [],
   "source": [
    "# 앞의 함수 만들어져 있는 것들이 있는데, 생성된 모듈을 사용하는 방법\n",
    "# import : 특정 데이터를 가지고 들어오다. \n"
   ]
  },
  {
   "cell_type": "code",
   "execution_count": 46,
   "metadata": {},
   "outputs": [
    {
     "name": "stdout",
     "output_type": "stream",
     "text": [
      "c:\\mypycode\n"
     ]
    }
   ],
   "source": [
    "cd c:\\mypycode"
   ]
  },
  {
   "cell_type": "code",
   "execution_count": 48,
   "metadata": {},
   "outputs": [
    {
     "name": "stdout",
     "output_type": "stream",
     "text": [
      "This is my first module.\n"
     ]
    }
   ],
   "source": [
    "import my_first_module\n",
    "\n",
    "my_first_module.my_function()"
   ]
  },
  {
   "cell_type": "code",
   "execution_count": 39,
   "metadata": {},
   "outputs": [
    {
     "name": "stdout",
     "output_type": "stream",
     "text": [
      "C:\\mypycode\\packages;C:\\mypycode\\modules\n"
     ]
    }
   ],
   "source": [
    "!echo %PYTHONPATH%  # 강의 다시 확인(경로 지정)"
   ]
  },
  {
   "cell_type": "code",
   "execution_count": 92,
   "metadata": {},
   "outputs": [
    {
     "name": "stdout",
     "output_type": "stream",
     "text": [
      "Writing c:\\mypycode\\modules\\my_Area.py\n"
     ]
    }
   ],
   "source": [
    "%%writefile c:\\mypycode\\modules\\my_Area.py\n",
    "#File name: my_area.py\n",
    "\n",
    "PI = 3.14\n",
    "def square_area(a):\n",
    "    return a ** 2\n",
    "def circle_area(r):\n",
    "    return PI * r ** 2\n",
    "\n",
    "#  return: 반환하다 = 호출한 곳으로 되돌려 준다b"
   ]
  },
  {
   "cell_type": "code",
   "execution_count": 93,
   "metadata": {},
   "outputs": [
    {
     "name": "stdout",
     "output_type": "stream",
     "text": [
      "3.14\n",
      "12.56\n"
     ]
    }
   ],
   "source": [
    "print(PI)\n",
    "print(circle_area(2))"
   ]
  },
  {
   "cell_type": "code",
   "execution_count": 94,
   "metadata": {},
   "outputs": [
    {
     "name": "stdout",
     "output_type": "stream",
     "text": [
      "c:\\mypycode\n"
     ]
    }
   ],
   "source": [
    "cd c:\\mypycode"
   ]
  },
  {
   "cell_type": "code",
   "execution_count": 96,
   "metadata": {},
   "outputs": [
    {
     "name": "stdout",
     "output_type": "stream",
     "text": [
      "pi= 3.14\n",
      "square area= 25\n",
      "circle area= 12.56\n"
     ]
    }
   ],
   "source": [
    "import my_Area\n",
    "\n",
    "print('pi=', my_Area.PI)\n",
    "print('square area=', my_Area.square_area(5))\n",
    "print('circle area=', my_Area.circle_area(2))"
   ]
  },
  {
   "cell_type": "code",
   "execution_count": 98,
   "metadata": {},
   "outputs": [
    {
     "data": {
      "text/plain": [
       "['PI',\n",
       " '__builtins__',\n",
       " '__cached__',\n",
       " '__doc__',\n",
       " '__file__',\n",
       " '__loader__',\n",
       " '__name__',\n",
       " '__package__',\n",
       " '__spec__',\n",
       " 'circle_area',\n",
       " 'square_area']"
      ]
     },
     "execution_count": 98,
     "metadata": {},
     "output_type": "execute_result"
    }
   ],
   "source": [
    "dir(my_Area) # 파일 안에 모든 것을 보여줘"
   ]
  },
  {
   "cell_type": "markdown",
   "metadata": {},
   "source": [
    "### 모듈을 불러오는 다른 형식"
   ]
  },
  {
   "cell_type": "markdown",
   "metadata": {},
   "source": [
    "#### 모듈의 내용 바로 선언"
   ]
  },
  {
   "cell_type": "code",
   "execution_count": 99,
   "metadata": {},
   "outputs": [
    {
     "name": "stdout",
     "output_type": "stream",
     "text": [
      "25\n",
      "78.5\n"
     ]
    }
   ],
   "source": [
    "from my_Area import square_area\n",
    "from my_Area import circle_area\n",
    "\n",
    "print(square_area(5))\n",
    "print(circle_area(5))"
   ]
  },
  {
   "cell_type": "code",
   "execution_count": 101,
   "metadata": {},
   "outputs": [
    {
     "name": "stdout",
     "output_type": "stream",
     "text": [
      "3.14\n",
      "25\n",
      "78.5\n"
     ]
    }
   ],
   "source": [
    "from my_Area import square_area, circle_area\n",
    "\n",
    "print(PI)\n",
    "print(square_area(5))\n",
    "print(circle_area(5))"
   ]
  },
  {
   "cell_type": "code",
   "execution_count": 102,
   "metadata": {},
   "outputs": [
    {
     "name": "stdout",
     "output_type": "stream",
     "text": [
      "3.14\n",
      "25\n",
      "78.5\n"
     ]
    }
   ],
   "source": [
    "from my_Area import *\n",
    "\n",
    "print(PI)\n",
    "print(square_area(5))\n",
    "print(circle_area(5))"
   ]
  },
  {
   "cell_type": "code",
   "execution_count": 103,
   "metadata": {},
   "outputs": [
    {
     "name": "stdout",
     "output_type": "stream",
     "text": [
      "Writing c:\\mypycode\\modules\\my_module1.py\n"
     ]
    }
   ],
   "source": [
    "%%writefile c:\\mypycode\\modules\\my_module1.py\n",
    "#File name: my_module1.py\n",
    "def func1():\n",
    "    print(\"func1 in my_module1 \")\n",
    "    \n",
    "def func2():\n",
    "    print(\"func2 in my_module1 \")"
   ]
  },
  {
   "cell_type": "code",
   "execution_count": 104,
   "metadata": {},
   "outputs": [
    {
     "name": "stdout",
     "output_type": "stream",
     "text": [
      "Writing c:\\mypycode\\modules\\my_module2.py\n"
     ]
    }
   ],
   "source": [
    "%%writefile c:\\mypycode\\modules\\my_module2.py\n",
    "#File name: my_module2.py\n",
    "def func2():\n",
    "    print(\"func2 in my_module2 \")\n",
    "    \n",
    "def func3():\n",
    "    print(\"func3 in my_module2 \")"
   ]
  },
  {
   "cell_type": "code",
   "execution_count": 105,
   "metadata": {},
   "outputs": [
    {
     "name": "stdout",
     "output_type": "stream",
     "text": [
      "func1 in my_module1 \n",
      "func2 in my_module2 \n",
      "func3 in my_module2 \n"
     ]
    }
   ],
   "source": [
    "from my_module1 import *\n",
    "from my_module2 import *\n",
    "\n",
    "func1()\n",
    "func2() #결과물 덮어 쓰이는 개념이기 때문에, 2에서 나옴\n",
    "func3() "
   ]
  },
  {
   "cell_type": "code",
   "execution_count": 106,
   "metadata": {},
   "outputs": [
    {
     "name": "stdout",
     "output_type": "stream",
     "text": [
      "func1 in my_module1 \n",
      "func2 in my_module1 \n",
      "func3 in my_module2 \n"
     ]
    }
   ],
   "source": [
    "from my_module2 import *\n",
    "from my_module1 import *\n",
    "\n",
    "func1()\n",
    "func2() #결과물 덮어 쓰이는 개념이기 때문에, 1에서 나옴\n",
    "func3() "
   ]
  },
  {
   "cell_type": "code",
   "execution_count": 107,
   "metadata": {},
   "outputs": [
    {
     "name": "stdout",
     "output_type": "stream",
     "text": [
      "pi = 3.14\n",
      "square area = 25\n",
      "circle area = 78.5\n"
     ]
    }
   ],
   "source": [
    "import my_Area as ar\n",
    "\n",
    "print('pi =', ar.PI)\n",
    "print('square area =', ar.square_area(5))\n",
    "print('circle area =', ar.circle_area(5))"
   ]
  },
  {
   "cell_type": "code",
   "execution_count": 109,
   "metadata": {},
   "outputs": [
    {
     "name": "stdout",
     "output_type": "stream",
     "text": [
      "3.14\n",
      "25\n",
      "12.56\n"
     ]
    }
   ],
   "source": [
    "from my_Area import PI as pi\n",
    "from my_Area import square_area as sa\n",
    "from my_Area import circle_area as ca\n",
    "\n",
    "print(pi)\n",
    "print(sa(5))\n",
    "print(ca(2))\n"
   ]
  },
  {
   "cell_type": "code",
   "execution_count": null,
   "metadata": {},
   "outputs": [],
   "source": []
  }
 ],
 "metadata": {
  "kernelspec": {
   "display_name": "Python 3",
   "language": "python",
   "name": "python3"
  },
  "language_info": {
   "codemirror_mode": {
    "name": "ipython",
    "version": 3
   },
   "file_extension": ".py",
   "mimetype": "text/x-python",
   "name": "python",
   "nbconvert_exporter": "python",
   "pygments_lexer": "ipython3",
   "version": "3.8.3"
  }
 },
 "nbformat": 4,
 "nbformat_minor": 4
}
