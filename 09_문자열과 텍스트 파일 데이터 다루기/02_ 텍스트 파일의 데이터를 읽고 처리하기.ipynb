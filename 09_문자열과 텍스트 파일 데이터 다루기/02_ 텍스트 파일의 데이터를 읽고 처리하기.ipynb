{
 "cells": [
  {
   "cell_type": "markdown",
   "metadata": {},
   "source": [
    "### 데이터 파일 준비 및 읽기"
   ]
  },
  {
   "cell_type": "code",
   "execution_count": 4,
   "metadata": {},
   "outputs": [
    {
     "name": "stdout",
     "output_type": "stream",
     "text": [
      "날짜    에스프레소  아메리카노  카페라테  카푸치노\n",
      "10.15       10  \t50         45       20   \n",
      "10.16       12\t\t45         41       18\n",
      "10.17       11\t\t53         32       25\n",
      "10.18       15\t\t49         38       22\n"
     ]
    }
   ],
   "source": [
    "!type c:\\mypycode\\data\\coffeeShopSales.txt \n",
    "# !는 terminal에 동작하는 애다. 명령어 \\ 쓸 수 있다"
   ]
  },
  {
   "cell_type": "code",
   "execution_count": 9,
   "metadata": {},
   "outputs": [],
   "source": [
    "file_name = 'c:/mypycode/data/coffeeShopSales.txt'"
   ]
  },
  {
   "cell_type": "code",
   "execution_count": 10,
   "metadata": {},
   "outputs": [
    {
     "name": "stdout",
     "output_type": "stream",
     "text": [
      "날짜    에스프레소  아메리카노  카페라테  카푸치노\n",
      "10.15       10  \t50         45       20   \n",
      "10.16       12\t\t45         41       18\n",
      "10.17       11\t\t53         32       25\n",
      "10.18       15\t\t49         38       22"
     ]
    }
   ],
   "source": [
    "f = open(file_name)\n",
    "\n",
    "for line in f:\n",
    "    print(line, end= '')\n",
    "    \n",
    "f.close()"
   ]
  },
  {
   "cell_type": "markdown",
   "metadata": {},
   "source": [
    "### 파일에서 읽은 문자열 데이터 처리"
   ]
  },
  {
   "cell_type": "code",
   "execution_count": 12,
   "metadata": {},
   "outputs": [
    {
     "name": "stdout",
     "output_type": "stream",
     "text": [
      "날짜    에스프레소  아메리카노  카페라테  카푸치노\n",
      "\n"
     ]
    }
   ],
   "source": [
    "f = open(file_name)\n",
    "header = f.readline()\n",
    "f.close()\n",
    "\n",
    "print(header)"
   ]
  },
  {
   "cell_type": "code",
   "execution_count": 14,
   "metadata": {},
   "outputs": [
    {
     "name": "stdout",
     "output_type": "stream",
     "text": [
      "['날짜', '에스프레소', '아메리카노', '카페라테', '카푸치노']\n"
     ]
    }
   ],
   "source": [
    "header_list = header.split()\n",
    "print(header_list)"
   ]
  },
  {
   "cell_type": "code",
   "execution_count": 15,
   "metadata": {},
   "outputs": [
    {
     "name": "stdout",
     "output_type": "stream",
     "text": [
      "['에스프레소', '아메리카노', '카페라테', '카푸치노']\n"
     ]
    }
   ],
   "source": [
    "print(header_list[1:])"
   ]
  },
  {
   "cell_type": "code",
   "execution_count": 16,
   "metadata": {},
   "outputs": [
    {
     "name": "stdout",
     "output_type": "stream",
     "text": [
      "['에스프레소', '아메리카노', '카페라테', '카푸치노']\n"
     ]
    }
   ],
   "source": [
    "coffee_menu = header_list[1:5]\n",
    "print(coffee_menu)"
   ]
  },
  {
   "cell_type": "code",
   "execution_count": 21,
   "metadata": {},
   "outputs": [
    {
     "name": "stdout",
     "output_type": "stream",
     "text": [
      "<_io.TextIOWrapper name='c:/mypycode/data/coffeeShopSales.txt' mode='r' encoding='cp949'>\n",
      "날짜    에스프레소  아메리카노  카페라테  카푸치노\n",
      "\n",
      "['10.15', '10', '50', '45', '20']\n",
      "['10.16', '12', '45', '41', '18']\n",
      "['10.17', '11', '53', '32', '25']\n",
      "['10.18', '15', '49', '38', '22']\n"
     ]
    }
   ],
   "source": [
    "f = open(file_name)\n",
    "print(f)\n",
    "header = f.readline()\n",
    "print(header)\n",
    "header_list = header.split()\n",
    "#print(header_list)\n",
    "\n",
    "for line in f:\n",
    "    data_list = line.split()\n",
    "    print(data_list)\n",
    "    \n",
    "f.close() # 4 1 2 3 해석 순서"
   ]
  },
  {
   "cell_type": "code",
   "execution_count": 29,
   "metadata": {},
   "outputs": [
    {
     "name": "stdout",
     "output_type": "stream",
     "text": [
      "날짜\n",
      "에스프레소\n",
      "아메리카노\n",
      "카페라테\n",
      "카푸치노\n",
      "에스프레소: [10, 12, 11, 15]\n",
      "아메리카노: [50, 45, 53, 49]\n",
      "카페라테: [45, 41, 32, 38]\n",
      "카푸치노: [20, 18, 25, 22]\n"
     ]
    }
   ],
   "source": [
    "f = open(file_name)\n",
    "header = f.readline()\n",
    "headerList = header.split() #'날짜', '에스프레소','아메리카노','카페라떼','카푸치노'\n",
    "\n",
    "print(headerList[0])\n",
    "print(headerList[1])\n",
    "print(headerList[2])\n",
    "print(headerList[3])\n",
    "print(headerList[4])\n",
    "\n",
    "espresso = [] # espresso =[]\n",
    "americano = [] # americano =[]\n",
    "cafelatte = [] # cafelatte =[]\n",
    "cappucino =[] # cappucino =[]\n",
    "\n",
    "'''\n",
    "f의 현재 상태\n",
    "ㅊ\n",
    "['10.15', '10', '50', '45', '20']\n",
    "['10.16', '12', '45', '41', '18']\n",
    "['10.17', '11', '53', '32', '25']\n",
    "['10.18', '15', '49', '38', '22']\n",
    "\n",
    "\n",
    "'''\n",
    "\n",
    "for line in f:\n",
    "    dataList = line.split()\n",
    "    \n",
    "    espresso.append(int(dataList[1]))\n",
    "    americano.append(int(dataList[2]))\n",
    "    cafelatte.append(int(dataList[3]))\n",
    "    cappucino.append(int(dataList[4]))\n",
    "    \n",
    "f.close()\n",
    "\n",
    "print(\"{0}: {1}\".format(headerList[1],espresso))\n",
    "print(\"{0}: {1}\".format(headerList[2],americano))\n",
    "print(\"{0}: {1}\".format(headerList[3],cafelatte))\n",
    "print(\"{0}: {1}\".format(headerList[4],cappucino))"
   ]
  },
  {
   "cell_type": "code",
   "execution_count": 30,
   "metadata": {},
   "outputs": [
    {
     "name": "stdout",
     "output_type": "stream",
     "text": [
      "에스프레소: [10, 12, 11, 15]\n",
      "아메리카노: [50, 45, 53, 49]\n",
      "카페라테: [45, 41, 32, 38]\n",
      "카푸치노: [20, 18, 25, 22]\n"
     ]
    }
   ],
   "source": [
    "file_name = 'c:/myPyCode/data/coffeeShopSales.txt'\n",
    "\n",
    "f = open(file_name)\n",
    "header = f.readline()\n",
    "headerList = header.split() # [\"날짜\",\"에스프레소\",\"아메리카노\",\"카페라테\",\"카푸치노\"]\n",
    "\n",
    "# print(headerList)\n",
    "# print(headerList[0])\n",
    "# print(headerList[1])\n",
    "# print(headerList[2])\n",
    "# print(headerList[3])\n",
    "# print(headerList[4])\n",
    "\n",
    "espresso = [] # espresso = [10, 12, 11, 15]\n",
    "americano = [] # americano = [50, 45, 53, 49]\n",
    "cafelatte = [] # cafelatte = [45, 41, 32, 38]\n",
    "cappucino = [] # cappucino = [20, 18, 25, 22]\n",
    "\n",
    "# f 의 현재 상태\n",
    "'''\n",
    "10.15       10     50         45       20   \n",
    "10.16       12      45         41       18\n",
    "10.17       11      53         32       25\n",
    "10.18       15      49         38       22\n",
    "'''\n",
    "# line 상태\n",
    "# for 구문 1회 : 10.15       10     50         45       20 \n",
    "\n",
    "for line in f:\n",
    "    # dataList 상태\n",
    "    # for 구문 1회 : ['10.15','10','50','45','20']\n",
    "    # for 구문 2회 : ['10.16','12','45','41','18']\n",
    "    # for 구문 3회 : ['10.17'.'11','53','32','25']\n",
    "    # for 구문 4회 : ['10.18','15','49','38',22]\n",
    "    dataList = line.split()\n",
    "    \n",
    "#     print(type(dataList[0]))\n",
    "#     print(type(dataList[1]))\n",
    "#     print(type(dataList[2]))\n",
    "#     print(type(dataList[3]))\n",
    "#     print(type(dataList[4]))\n",
    "    \n",
    "    # 커피 종류별로 정수로 변환한 후, 리스트의 항목으로 추가\n",
    "    \n",
    "    espresso.append(int(dataList[1])) # '10', '12','11','15'\n",
    "    americano.append(int(dataList[2])) # '50' '45','53','49'\n",
    "    cafelatte.append(int(dataList[3])) # '45' '41','32','38'\n",
    "    cappucino.append(int(dataList[4])) # '20' '18','25','22'\n",
    "    \n",
    "f.close()\n",
    "\n",
    "print(\"{0}: {1}\".format(headerList[1], espresso)) # 에스프레소, espresso = [10, 12, 11, 15]\n",
    "print(\"{0}: {1}\".format(headerList[2], americano))# 아메리카노, americano = [50, 45, 53, 49]\n",
    "print(\"{0}: {1}\".format(headerList[3], cafelatte))# 카페라테, cafelatte = [45, 41, 32, 38]\n",
    "print(\"{0}: {1}\".format(headerList[4], cappucino))# 카푸치노, cappucino = [20, 18, 25, 22]"
   ]
  },
  {
   "cell_type": "code",
   "execution_count": 31,
   "metadata": {},
   "outputs": [
    {
     "data": {
      "text/plain": [
       "48"
      ]
     },
     "execution_count": 31,
     "metadata": {},
     "output_type": "execute_result"
    }
   ],
   "source": [
    "sum(espresso)"
   ]
  },
  {
   "cell_type": "code",
   "execution_count": 32,
   "metadata": {},
   "outputs": [
    {
     "name": "stdout",
     "output_type": "stream",
     "text": [
      "48\n",
      "197\n",
      "156\n",
      "85\n"
     ]
    }
   ],
   "source": [
    "print(sum(espresso))\n",
    "print(sum(americano))\n",
    "print(sum(cafelatte))\n",
    "print(sum(cappucino))"
   ]
  },
  {
   "cell_type": "code",
   "execution_count": 33,
   "metadata": {},
   "outputs": [
    {
     "name": "stdout",
     "output_type": "stream",
     "text": [
      "48\n",
      "4\n"
     ]
    }
   ],
   "source": [
    "print(sum(espresso))\n",
    "print(len(espresso))"
   ]
  },
  {
   "cell_type": "code",
   "execution_count": 34,
   "metadata": {},
   "outputs": [
    {
     "name": "stdout",
     "output_type": "stream",
     "text": [
      "12.0\n"
     ]
    }
   ],
   "source": [
    "print(sum(espresso)/len(espresso))"
   ]
  },
  {
   "cell_type": "code",
   "execution_count": 35,
   "metadata": {},
   "outputs": [
    {
     "name": "stdout",
     "output_type": "stream",
     "text": [
      "['날짜', '에스프레소', '아메리카노', '카페라테', '카푸치노']\n"
     ]
    }
   ],
   "source": [
    "print(headerList)"
   ]
  },
  {
   "cell_type": "code",
   "execution_count": 36,
   "metadata": {},
   "outputs": [
    {
     "name": "stdout",
     "output_type": "stream",
     "text": [
      "에스프레소\n",
      "48\n",
      "12.0\n"
     ]
    }
   ],
   "source": [
    "k=0\n",
    "print(headerList[k+1])\n",
    "\n",
    "total_sum =sum(espresso)\n",
    "total_mean =sum(espresso)/len(espresso)\n",
    "print(total_sum)\n",
    "print(total_mean)"
   ]
  },
  {
   "cell_type": "code",
   "execution_count": null,
   "metadata": {},
   "outputs": [],
   "source": []
  }
 ],
 "metadata": {
  "kernelspec": {
   "display_name": "Python 3",
   "language": "python",
   "name": "python3"
  },
  "language_info": {
   "codemirror_mode": {
    "name": "ipython",
    "version": 3
   },
   "file_extension": ".py",
   "mimetype": "text/x-python",
   "name": "python",
   "nbconvert_exporter": "python",
   "pygments_lexer": "ipython3",
   "version": "3.8.3"
  }
 },
 "nbformat": 4,
 "nbformat_minor": 4
}
