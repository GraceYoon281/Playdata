{
 "cells": [
  {
   "cell_type": "code",
   "execution_count": 2,
   "metadata": {},
   "outputs": [
    {
     "name": "stdout",
     "output_type": "stream",
     "text": [
      "나이를 입력해주세요 : 1\n",
      "2D 와 3D관 관람하실 관을 선택해주세요 : 2d\n",
      "2d관을 선택하셨습니다.\n",
      "요일을 입력해주세요 : 목\n",
      "고객님의 요금은 10000 입니다.\n"
     ]
    }
   ],
   "source": [
    "day1 = [\"월요일\",\"월\",\"화요일\",\"화\",\"수요일\",\"수\",\"목요일\",\"목\",\"금요일\",\"금\"]\n",
    "day2 = [\"일요일\",\"일\",\"토요일\",\"토\"]\n",
    "day = day1 + day2 \n",
    "\n",
    "while True:                                                           #예외처리 하는 부분\n",
    "    try:\n",
    "        age = int(input(\"나이를 입력해주세요 : \"))\n",
    "        break\n",
    "    except ValueError:\n",
    "        print(\"나이를 다시 입력해주세요\")\n",
    " \n",
    "while True:\n",
    "    try:\n",
    "        movie = input(\"2D 와 3D관 관람하실 관을 선택해주세요 : \")\n",
    "        if \"2D\" or \"3D\" in movie:\n",
    "            print(movie + \"관을 선택하셨습니다.\")\n",
    "            break\n",
    "        else:\n",
    "            print(\"오류입니다.\")\n",
    "    except ValueError:\n",
    "        print(\"상영관을 다시 선택해주세요\")\n",
    "\n",
    "while True:\n",
    "    try:    \n",
    "        dayinput = input(\"요일을 입력해주세요 : \")\n",
    "        if dayinput in day :\n",
    "            break  \n",
    "        else :\n",
    "            print(\"오류입니다\")  \n",
    "    except ValueError:\n",
    "            print(\"요일을 다시 입력해주세요\")\n",
    "            \n",
    "money = 12000;\n",
    "if age <= 19:\n",
    "    money = money - 2000\n",
    "else : money = money\n",
    "    \n",
    "if \"3D\" in movie:\n",
    "    money = money + 3000\n",
    "else : money = money\n",
    "    \n",
    "if dayinput in day2:\n",
    "    money = money + 2000\n",
    "else : money = money\n",
    "\n",
    "print(\"고객님의 요금은 \"+str(money)+\" 입니다.\")"
   ]
  }
 ],
 "metadata": {
  "kernelspec": {
   "display_name": "Python 3",
   "language": "python",
   "name": "python3"
  },
  "language_info": {
   "codemirror_mode": {
    "name": "ipython",
    "version": 3
   },
   "file_extension": ".py",
   "mimetype": "text/x-python",
   "name": "python",
   "nbconvert_exporter": "python",
   "pygments_lexer": "ipython3",
   "version": "3.8.3"
  }
 },
 "nbformat": 4,
 "nbformat_minor": 4
}
