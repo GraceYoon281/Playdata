{
 "cells": [
  {
   "cell_type": "code",
   "execution_count": 6,
   "metadata": {},
   "outputs": [],
   "source": [
    "class Bicycle():\n",
    "    pass"
   ]
  },
  {
   "cell_type": "code",
   "execution_count": 7,
   "metadata": {},
   "outputs": [],
   "source": [
    "my_bicycle = Bicycle"
   ]
  },
  {
   "cell_type": "code",
   "execution_count": 8,
   "metadata": {},
   "outputs": [
    {
     "data": {
      "text/plain": [
       "__main__.Bicycle"
      ]
     },
     "execution_count": 8,
     "metadata": {},
     "output_type": "execute_result"
    }
   ],
   "source": [
    "my_bicycle"
   ]
  },
  {
   "cell_type": "code",
   "execution_count": 9,
   "metadata": {},
   "outputs": [],
   "source": [
    "my_bicycle.wheel_size = 26\n",
    "my_bicycle.wheel_color = 'black'"
   ]
  },
  {
   "cell_type": "code",
   "execution_count": 10,
   "metadata": {},
   "outputs": [
    {
     "name": "stdout",
     "output_type": "stream",
     "text": [
      "바퀴 크기: 26\n",
      "색상: black\n"
     ]
    }
   ],
   "source": [
    "print(\"바퀴 크기:\", my_bicycle.wheel_size)\n",
    "print(\"색상:\", my_bicycle.wheel_color)"
   ]
  },
  {
   "cell_type": "code",
   "execution_count": 19,
   "metadata": {},
   "outputs": [],
   "source": [
    "class Bicycle():\n",
    "    wheel_size = 26\n",
    "    color = 'black'\n",
    "    def move(self, speed):\n",
    "        print(\"자전거: 시속 {0}킬로미터로 전진\".format(speed))\n",
    "        \n",
    "    def turn(self, direction):\n",
    "        print(\"자전거: {0}회전\".format(direction))\n",
    "        \n",
    "    def stop(self):\n",
    "        print(\"자전거({0} {1}:정지)\".format(self.wheel_size, self.color))"
   ]
  },
  {
   "cell_type": "code",
   "execution_count": 20,
   "metadata": {},
   "outputs": [
    {
     "name": "stdout",
     "output_type": "stream",
     "text": [
      "자전거: 시속 30킬로미터로 전진\n",
      "자전거: 좌회전\n",
      "자전거(26 black:정지)\n"
     ]
    }
   ],
   "source": [
    "my_bicycle = Bicycle()\n",
    "\n",
    "my_bicycle.wheel_size = 26\n",
    "my_bicycle.color = 'black'\n",
    "\n",
    "my_bicycle.move(30)\n",
    "my_bicycle.turn('좌')\n",
    "my_bicycle.stop()\n"
   ]
  },
  {
   "cell_type": "code",
   "execution_count": 22,
   "metadata": {},
   "outputs": [
    {
     "name": "stdout",
     "output_type": "stream",
     "text": [
      "자전거: 시속 15킬로미터로 전진\n",
      "자전거: 우회전\n",
      "자전거(27 red:정지)\n"
     ]
    }
   ],
   "source": [
    "bicycle1 = Bicycle()\n",
    "\n",
    "bicycle1.wheel_size = 27\n",
    "bicycle1.color = 'red'\n",
    "\n",
    "\n",
    "bicycle1.move(15)\n",
    "bicycle1.turn('우')\n",
    "bicycle1.stop()"
   ]
  },
  {
   "cell_type": "markdown",
   "metadata": {},
   "source": [
    "#### 객체 초기화"
   ]
  },
  {
   "cell_type": "code",
   "execution_count": 23,
   "metadata": {},
   "outputs": [],
   "source": [
    "class Bicycle():\n",
    "    \n",
    "    def __init__(self, wheel_size, color):\n",
    "        self.wheel_size = wheel_size\n",
    "        self.color = color\n",
    "        \n",
    "    ## 같은 효과 = 전역변수화\n",
    "    ## wheel_size = 26\n",
    "    ## color = \"black\"\n",
    "\n",
    "    def move(self, speed):\n",
    "        print(\"자전거: 시속 {0}킬로미터로 전진\".format(speed))\n",
    "        \n",
    "    def turn(self, direction):\n",
    "        print(\"자전거: {0}회전\".format(direction))\n",
    "        \n",
    "    def stop(self):\n",
    "        print(\"자전거({0} {1}:정지)\".format(self.wheel_size, self.color))"
   ]
  },
  {
   "cell_type": "code",
   "execution_count": 25,
   "metadata": {},
   "outputs": [
    {
     "name": "stdout",
     "output_type": "stream",
     "text": [
      "자전거: 시속 30킬로미터로 전진\n",
      "자전거: 좌회전\n",
      "자전거(26 black:정지)\n"
     ]
    }
   ],
   "source": [
    "my_bicycle = Bicycle(26, 'black') \n",
    "# 전역변수화  \n",
    "## wheel_size = 26\n",
    "## color = \"black\"\n",
    "my_bicycle.move(30)\n",
    "my_bicycle.turn(\"좌\")\n",
    "my_bicycle.stop()"
   ]
  },
  {
   "cell_type": "code",
   "execution_count": null,
   "metadata": {},
   "outputs": [],
   "source": [
    "my_bicycle 1 = Bicycle(26, 'black') \n",
    "# 전역변수화  \n",
    "## wheel_size = 26\n",
    "## color = \"black\"\n",
    "my_bicycle.move(30)\n",
    "my_bicycle.turn(\"좌\")\n",
    "my_bicycle.stop()"
   ]
  }
 ],
 "metadata": {
  "kernelspec": {
   "display_name": "Python 3",
   "language": "python",
   "name": "python3"
  },
  "language_info": {
   "codemirror_mode": {
    "name": "ipython",
    "version": 3
   },
   "file_extension": ".py",
   "mimetype": "text/x-python",
   "name": "python",
   "nbconvert_exporter": "python",
   "pygments_lexer": "ipython3",
   "version": "3.8.3"
  }
 },
 "nbformat": 4,
 "nbformat_minor": 4
}
