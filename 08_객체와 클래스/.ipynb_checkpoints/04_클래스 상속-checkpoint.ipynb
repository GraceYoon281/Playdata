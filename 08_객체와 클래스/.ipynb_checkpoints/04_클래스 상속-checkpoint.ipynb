{
 "cells": [
  {
   "cell_type": "markdown",
   "metadata": {},
   "source": [
    "### 클래스 상속"
   ]
  },
  {
   "cell_type": "code",
   "execution_count": 2,
   "metadata": {},
   "outputs": [],
   "source": [
    "class Bicycle():\n",
    "    \n",
    "    def __init__(self, wheel_size, color):\n",
    "        self.wheel_size = wheel_size\n",
    "        self.color = color\n",
    "        \n",
    "    def move(self, speed):\n",
    "        print(\"자전거: 시속{0}킬로미터로 전진\".format(speed))\n",
    "\n",
    "    def turn(self, direction):\n",
    "        print(\"자전거:{0}회전\".format(direction))\n",
    "\n",
    "    def stop(self):\n",
    "        print(\"자전거({0}, {1}): 정지\".format(self.wheel_size, self.color))\n",
    "\n",
    "        "
   ]
  },
  {
   "cell_type": "code",
   "execution_count": null,
   "metadata": {},
   "outputs": [],
   "source": [
    "class FoldingBicycle(Bicycle):\n",
    "    def __init__(self, wheel_size, color, state): #FoldingBicycle 초기화\n",
    "        Bicycle.__init__(self, wheel_size, color) #Bicycle의 초기화 재사용\n",
    "        #super().__init__(wheel_size, color) #super()의 사용 가능:\n",
    "        self.state = state # 자식 클래스에서 새로 추가한 변수\n",
    "        \n",
    "    def fold(self)"
   ]
  }
 ],
 "metadata": {
  "kernelspec": {
   "display_name": "Python 3",
   "language": "python",
   "name": "python3"
  },
  "language_info": {
   "codemirror_mode": {
    "name": "ipython",
    "version": 3
   },
   "file_extension": ".py",
   "mimetype": "text/x-python",
   "name": "python",
   "nbconvert_exporter": "python",
   "pygments_lexer": "ipython3",
   "version": "3.8.3"
  }
 },
 "nbformat": 4,
 "nbformat_minor": 4
}
