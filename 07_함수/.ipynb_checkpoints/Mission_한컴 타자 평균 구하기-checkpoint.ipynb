{
 "cells": [
  {
   "cell_type": "code",
   "execution_count": 26,
   "metadata": {},
   "outputs": [],
   "source": [
    "scores1 = [327,152,72,235,261,'결석',186,'지각',185,158,260,184,214,237,259,269,224,124,231,'결석',209]\n",
    "scores2 = []\n",
    "\n",
    "for score in scores1:\n",
    "    if type(score) == int:\n",
    "        scores2.append(score)\n",
    "    if type(score) == str:\n",
    "        scores2.append(0)\n",
    "        \n",
    "        \n",
    "\n"
   ]
  },
  {
   "cell_type": "code",
   "execution_count": 27,
   "metadata": {},
   "outputs": [
    {
     "name": "stdout",
     "output_type": "stream",
     "text": [
      "[327, 152, 72, 235, 261, 0, 186, 0, 185, 158, 260, 184, 214, 237, 259, 269, 224, 124, 231, 0, 209]\n"
     ]
    }
   ],
   "source": [
    "print(scores2)"
   ]
  },
  {
   "cell_type": "code",
   "execution_count": 28,
   "metadata": {},
   "outputs": [
    {
     "name": "stdout",
     "output_type": "stream",
     "text": [
      "한컴 타자 연습 평균 = 180.33333333333334 \n"
     ]
    }
   ],
   "source": [
    "        \n",
    "print(\"한컴 타자 연습 평균 = {0} \".format(sum(scores2)/len(scores2)) )"
   ]
  },
  {
   "cell_type": "code",
   "execution_count": null,
   "metadata": {},
   "outputs": [],
   "source": []
  }
 ],
 "metadata": {
  "kernelspec": {
   "display_name": "Python 3",
   "language": "python",
   "name": "python3"
  },
  "language_info": {
   "codemirror_mode": {
    "name": "ipython",
    "version": 3
   },
   "file_extension": ".py",
   "mimetype": "text/x-python",
   "name": "python",
   "nbconvert_exporter": "python",
   "pygments_lexer": "ipython3",
   "version": "3.8.3"
  }
 },
 "nbformat": 4,
 "nbformat_minor": 4
}
