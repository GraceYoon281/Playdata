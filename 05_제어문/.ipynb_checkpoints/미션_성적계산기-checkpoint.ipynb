{
 "cells": [
  {
   "cell_type": "code",
   "execution_count": 13,
   "metadata": {},
   "outputs": [
    {
     "name": "stdout",
     "output_type": "stream",
     "text": [
      "점수를 입력하세요.66\n",
      "D0 학점\n"
     ]
    }
   ],
   "source": [
    "score = int(input(\"점수를 입력하세요.\"))\n",
    "\n",
    "if score >= 90:\n",
    "    if score >= 97:\n",
    "        print(\"A+ 학점\")\n",
    "    elif score<97 or score>=94:\n",
    "        print(\"A0 학점\")\n",
    "    else:\n",
    "        print(\"A- 학점\")\n",
    "    \n",
    "\n",
    "elif(score>=80):\n",
    "    if score >= 87:\n",
    "        print(\"B+ 학점\")\n",
    "    elif score < 87 or score>=84:\n",
    "        print(\"B0 학점\")\n",
    "    else:\n",
    "        print(\"B- 학점\")\n",
    "        \n",
    "elif(score>=70):\n",
    "    if score >= 77:\n",
    "        print(\"C+ 학점\")\n",
    "    elif score < 77 or score >= 74:\n",
    "        print(\"C0 학점\")\n",
    "    else:\n",
    "        print(\"C- 학점\")\n",
    "\n",
    "elif(score>=60):\n",
    "    if score >= 67:\n",
    "        print(\"D+ 학점\")\n",
    "    elif score < 67 or score >= 64:\n",
    "        print(\"D0 학점\")\n",
    "    else:\n",
    "        print(\"D- 학점\")\n",
    "\n",
    "    \n",
    "else:\n",
    "    print(\"F 학점\")"
   ]
  },
  {
   "cell_type": "code",
   "execution_count": 6,
   "metadata": {},
   "outputs": [
    {
     "name": "stdout",
     "output_type": "stream",
     "text": [
      "good\n"
     ]
    }
   ],
   "source": []
  },
  {
   "cell_type": "code",
   "execution_count": null,
   "metadata": {},
   "outputs": [],
   "source": []
  }
 ],
 "metadata": {
  "kernelspec": {
   "display_name": "Python 3",
   "language": "python",
   "name": "python3"
  },
  "language_info": {
   "codemirror_mode": {
    "name": "ipython",
    "version": 3
   },
   "file_extension": ".py",
   "mimetype": "text/x-python",
   "name": "python",
   "nbconvert_exporter": "python",
   "pygments_lexer": "ipython3",
   "version": "3.8.3"
  }
 },
 "nbformat": 4,
 "nbformat_minor": 4
}
