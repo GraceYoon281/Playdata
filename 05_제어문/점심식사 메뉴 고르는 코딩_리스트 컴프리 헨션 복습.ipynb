{
 "cells": [
  {
   "cell_type": "markdown",
   "metadata": {},
   "source": [
    "### 리스트 생성하기"
   ]
  },
  {
   "cell_type": "code",
   "execution_count": 4,
   "metadata": {},
   "outputs": [
    {
     "data": {
      "text/plain": [
       "[0, 1, 2, 3, 4, 5, 6, 7, 8, 9]"
      ]
     },
     "execution_count": 4,
     "metadata": {},
     "output_type": "execute_result"
    }
   ],
   "source": [
    "numbers = [] \n",
    "[x for x in range(10)]"
   ]
  },
  {
   "cell_type": "code",
   "execution_count": 3,
   "metadata": {},
   "outputs": [
    {
     "name": "stdout",
     "output_type": "stream",
     "text": [
      "[1, 2, 3, 4, 5, 6, 7, 8, 9, 10]\n"
     ]
    }
   ],
   "source": [
    "print(numbers)"
   ]
  },
  {
   "cell_type": "code",
   "execution_count": 5,
   "metadata": {},
   "outputs": [],
   "source": [
    "for n in range(1, 10+1):\n",
    "    numbers.append(n)\n",
    "    "
   ]
  },
  {
   "cell_type": "markdown",
   "metadata": {},
   "source": [
    "### 조건걸기"
   ]
  },
  {
   "cell_type": "code",
   "execution_count": 6,
   "metadata": {},
   "outputs": [],
   "source": [
    "even_numbers = []\n",
    "for n in range(1, 10 + 1):\n",
    "    if n % 2 == 0:\n",
    "        even_numbers.append(n)"
   ]
  },
  {
   "cell_type": "code",
   "execution_count": 7,
   "metadata": {},
   "outputs": [
    {
     "name": "stdout",
     "output_type": "stream",
     "text": [
      "[2, 4, 6, 8, 10]\n"
     ]
    }
   ],
   "source": [
    "print(even_numbers)"
   ]
  },
  {
   "cell_type": "markdown",
   "metadata": {},
   "source": [
    "### 컴프리헨션 문법을 통한 방법"
   ]
  },
  {
   "cell_type": "code",
   "execution_count": 9,
   "metadata": {},
   "outputs": [
    {
     "data": {
      "text/plain": [
       "[2, 4, 6, 8]"
      ]
     },
     "execution_count": 9,
     "metadata": {},
     "output_type": "execute_result"
    }
   ],
   "source": [
    "[x for x in range(1,10) if x % 2 == 0]"
   ]
  },
  {
   "cell_type": "markdown",
   "metadata": {},
   "source": [
    "### 중복표현"
   ]
  },
  {
   "cell_type": "code",
   "execution_count": 10,
   "metadata": {},
   "outputs": [
    {
     "data": {
      "text/plain": [
       "[('쌈밥', '사과'),\n",
       " ('쌈밥', '아이스크림'),\n",
       " ('쌈밥', '커피'),\n",
       " ('치킨', '사과'),\n",
       " ('치킨', '아이스크림'),\n",
       " ('치킨', '커피'),\n",
       " ('피자', '사과'),\n",
       " ('피자', '아이스크림'),\n",
       " ('피자', '커피')]"
      ]
     },
     "execution_count": 10,
     "metadata": {},
     "output_type": "execute_result"
    }
   ],
   "source": [
    "[(x,y) for x in [\"쌈밥\", \"치킨\", \"피자\"] for y in [\"사과\", \"아이스크림\", \"커피\"]]"
   ]
  },
  {
   "cell_type": "code",
   "execution_count": 11,
   "metadata": {},
   "outputs": [
    {
     "data": {
      "text/plain": [
       "[('쌈밥', '사과'),\n",
       " ('쌈밥', '사과'),\n",
       " ('쌈밥', '아이스크림'),\n",
       " ('쌈밥', '아이스크림'),\n",
       " ('쌈밥', '커피'),\n",
       " ('쌈밥', '커피'),\n",
       " ('치킨', '사과'),\n",
       " ('치킨', '사과'),\n",
       " ('치킨', '아이스크림'),\n",
       " ('치킨', '아이스크림'),\n",
       " ('치킨', '커피'),\n",
       " ('치킨', '커피'),\n",
       " ('피자', '사과'),\n",
       " ('피자', '사과'),\n",
       " ('피자', '아이스크림'),\n",
       " ('피자', '아이스크림'),\n",
       " ('피자', '커피'),\n",
       " ('피자', '커피')]"
      ]
     },
     "execution_count": 11,
     "metadata": {},
     "output_type": "execute_result"
    }
   ],
   "source": [
    "[(x,y) for x in [\"쌈밥\", \"치킨\", \"피자\"] for y in [\"사과\", \"아이스크림\", \"커피\"] for z in [\"배달\", \"직접\"]] "
   ]
  },
  {
   "cell_type": "code",
   "execution_count": 12,
   "metadata": {},
   "outputs": [
    {
     "name": "stdout",
     "output_type": "stream",
     "text": [
      "쌈밥 사과 배민\n",
      "쌈밥 사과 요기요\n",
      "쌈밥 사과 직접\n",
      "쌈밥 아이스크림 배민\n",
      "쌈밥 아이스크림 요기요\n",
      "쌈밥 아이스크림 직접\n",
      "쌈밥 커피 배민\n",
      "쌈밥 커피 요기요\n",
      "쌈밥 커피 직접\n",
      "치킨 사과 배민\n",
      "치킨 사과 요기요\n",
      "치킨 사과 직접\n",
      "치킨 아이스크림 배민\n",
      "치킨 아이스크림 요기요\n",
      "치킨 아이스크림 직접\n",
      "치킨 커피 배민\n",
      "치킨 커피 요기요\n",
      "치킨 커피 직접\n",
      "피자 사과 배민\n",
      "피자 사과 요기요\n",
      "피자 사과 직접\n",
      "피자 아이스크림 배민\n",
      "피자 아이스크림 요기요\n",
      "피자 아이스크림 직접\n",
      "피자 커피 배민\n",
      "피자 커피 요기요\n",
      "피자 커피 직접\n"
     ]
    }
   ],
   "source": [
    "for x in [\"쌈밥\", \"치킨\", \"피자\"]:\n",
    "    for y in [\"사과\", \"아이스크림\", \"커피\"]:\n",
    "        for z in [\"배민\", \"요기요\", \"직접\"]:\n",
    "            print(x,y,z)"
   ]
  },
  {
   "cell_type": "code",
   "execution_count": 13,
   "metadata": {},
   "outputs": [
    {
     "name": "stdout",
     "output_type": "stream",
     "text": [
      "[-10, -8, -6, -4, -2]\n"
     ]
    }
   ],
   "source": [
    "print(list(range(-10,0,2)))"
   ]
  },
  {
   "cell_type": "code",
   "execution_count": 14,
   "metadata": {},
   "outputs": [
    {
     "name": "stdout",
     "output_type": "stream",
     "text": [
      "[]\n"
     ]
    }
   ],
   "source": [
    "print(list(range(3,-10,2)))"
   ]
  },
  {
   "cell_type": "code",
   "execution_count": 16,
   "metadata": {},
   "outputs": [
    {
     "name": "stdout",
     "output_type": "stream",
     "text": [
      "x y\n",
      "x1 y1\n",
      "x1 y2\n",
      "x2 y1\n",
      "x2 y2\n"
     ]
    }
   ],
   "source": [
    "x_list = ['x1', 'x2']\n",
    "y_list = ['y1', 'y2']\n",
    "print('x y')\n",
    "\n",
    "for x in x_list:\n",
    "    for y in y_list:\n",
    "        print(x,y)"
   ]
  },
  {
   "cell_type": "markdown",
   "metadata": {},
   "source": [
    "### 여러 개의 리스트 다루기"
   ]
  },
  {
   "cell_type": "markdown",
   "metadata": {},
   "source": [
    "names = ['A', 'b', 'c','d']"
   ]
  },
  {
   "cell_type": "code",
   "execution_count": 27,
   "metadata": {},
   "outputs": [],
   "source": [
    "names = ['James', 'Risa', 'Laura', 'Mary', 'Yoon', 'Moo']\n",
    "scores = [89,13,45,12,53,65]"
   ]
  },
  {
   "cell_type": "code",
   "execution_count": 28,
   "metadata": {},
   "outputs": [
    {
     "data": {
      "text/plain": [
       "6"
      ]
     },
     "execution_count": 28,
     "metadata": {},
     "output_type": "execute_result"
    }
   ],
   "source": [
    "len(names)"
   ]
  },
  {
   "cell_type": "code",
   "execution_count": 29,
   "metadata": {},
   "outputs": [
    {
     "data": {
      "text/plain": [
       "[0, 1, 2, 3, 4, 5]"
      ]
     },
     "execution_count": 29,
     "metadata": {},
     "output_type": "execute_result"
    }
   ],
   "source": [
    "list(range(0,6,1))"
   ]
  },
  {
   "cell_type": "code",
   "execution_count": 30,
   "metadata": {},
   "outputs": [
    {
     "data": {
      "text/plain": [
       "[0, 1, 2, 3, 4, 5]"
      ]
     },
     "execution_count": 30,
     "metadata": {},
     "output_type": "execute_result"
    }
   ],
   "source": [
    "list(range(0, len(names), 1))"
   ]
  },
  {
   "cell_type": "code",
   "execution_count": 31,
   "metadata": {},
   "outputs": [
    {
     "data": {
      "text/plain": [
       "[0, 1, 2, 3, 4, 5]"
      ]
     },
     "execution_count": 31,
     "metadata": {},
     "output_type": "execute_result"
    }
   ],
   "source": [
    "list(range(len(names)))"
   ]
  },
  {
   "cell_type": "code",
   "execution_count": 33,
   "metadata": {},
   "outputs": [
    {
     "name": "stdout",
     "output_type": "stream",
     "text": [
      "James 89\n",
      "Risa 13\n",
      "Laura 45\n",
      "Mary 12\n",
      "Yoon 53\n",
      "Moo 65\n"
     ]
    }
   ],
   "source": [
    "for k in range(len(names)):\n",
    "    print(names[k], scores[k])"
   ]
  },
  {
   "cell_type": "code",
   "execution_count": 34,
   "metadata": {},
   "outputs": [
    {
     "name": "stdout",
     "output_type": "stream",
     "text": [
      "Risa\n"
     ]
    }
   ],
   "source": [
    "print(names[1])"
   ]
  },
  {
   "cell_type": "code",
   "execution_count": 35,
   "metadata": {},
   "outputs": [
    {
     "name": "stdout",
     "output_type": "stream",
     "text": [
      "윤경주 100\n"
     ]
    }
   ],
   "source": [
    "print(\"윤경주\", 100)"
   ]
  },
  {
   "cell_type": "code",
   "execution_count": 36,
   "metadata": {},
   "outputs": [
    {
     "name": "stdout",
     "output_type": "stream",
     "text": [
      "1 1\n",
      "2 2\n",
      "3 3\n",
      "4 4\n",
      "5 5\n",
      "6 6\n",
      "7 7\n",
      "8 8\n",
      "9 9\n",
      "10 10\n",
      "11 11\n",
      "12 12\n",
      "13 13\n",
      "14 14\n",
      "15 15\n",
      "16 16\n",
      "17 17\n",
      "18 18\n",
      "19 19\n",
      "20 20\n"
     ]
    }
   ],
   "source": [
    "i = 0\n",
    "sum = 0\n",
    "while (sum < 20):\n",
    "    i = i + 1\n",
    "    sum = sum + 1\n",
    "    print(i, sum)"
   ]
  },
  {
   "cell_type": "code",
   "execution_count": null,
   "metadata": {},
   "outputs": [],
   "source": [
    "while True:\n",
    "    if n \n",
    "    print(\"while Test\")"
   ]
  }
 ],
 "metadata": {
  "kernelspec": {
   "display_name": "Python 3",
   "language": "python",
   "name": "python3"
  },
  "language_info": {
   "codemirror_mode": {
    "name": "ipython",
    "version": 3
   },
   "file_extension": ".py",
   "mimetype": "text/x-python",
   "name": "python",
   "nbconvert_exporter": "python",
   "pygments_lexer": "ipython3",
   "version": "3.8.3"
  }
 },
 "nbformat": 4,
 "nbformat_minor": 4
}
