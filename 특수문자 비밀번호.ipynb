{
 "cells": [
  {
   "cell_type": "code",
   "execution_count": 2,
   "metadata": {},
   "outputs": [
    {
     "name": "stdout",
     "output_type": "stream",
     "text": [
      "기존 비밀번호를 입력하세요: 1234\n",
      "비밀번호가 로 초기화 되었습니다.\n",
      "신규 비밀번호를 입력해주세요.7412\n",
      "비밀번호가 7412로 초기화 되었습니다.\n"
     ]
    }
   ],
   "source": [
    "id = 'plantsyoon@gmail.com'\n",
    "pw = '1234'\n",
    " \n",
    "number = 5 #입력횟수 정의\n",
    "for num in range(1,number+1): #1번부터 number 번까지\n",
    "    pw_input = input('기존 비밀번호를 입력하세요: ')\n",
    "    if pw_input == pw:\n",
    "        pw_clear = pw_input.replace(pw,'')\n",
    "        print(f\"비밀번호가 {pw_clear}로 초기화 되었습니다.\")\n",
    "        pw = input(\"신규 비밀번호를 입력해주세요.\")\n",
    "        print(f\"비밀번호가 {pw}로 초기화 되었습니다.\")\n",
    "        break   \n",
    "    elif num == number : \n",
    "        print(\"비밀번호가 \"+str(number)+\"번 틀렸습니다. 영업점에 문의해주세요.\")\n",
    "        break\n",
    "    else :\n",
    "        print(\"기존 비밀번호가 틀렸습니다. 다시 입력해주세요.\")\n",
    "        continue"
   ]
  },
  {
   "cell_type": "code",
   "execution_count": null,
   "metadata": {},
   "outputs": [],
   "source": []
  }
 ],
 "metadata": {
  "kernelspec": {
   "display_name": "Python 3",
   "language": "python",
   "name": "python3"
  },
  "language_info": {
   "codemirror_mode": {
    "name": "ipython",
    "version": 3
   },
   "file_extension": ".py",
   "mimetype": "text/x-python",
   "name": "python",
   "nbconvert_exporter": "python",
   "pygments_lexer": "ipython3",
   "version": "3.8.3"
  }
 },
 "nbformat": 4,
 "nbformat_minor": 4
}
